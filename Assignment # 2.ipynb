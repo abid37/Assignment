{
 "cells": [
  {
   "cell_type": "code",
   "execution_count": 13,
   "metadata": {},
   "outputs": [
    {
     "name": "stdout",
     "output_type": "stream",
     "text": [
      "Enter the marks of Java : 78\n",
      "Enter the marks of Python : 89\n",
      "Enter the marks of DBMS : 78\n",
      "Enter the marks of CS : 89\n",
      "Enter the marks of PE : 78\n",
      "Grade : A\n"
     ]
    }
   ],
   "source": [
    "s1 = int(input('Enter the marks of Java : '))\n",
    "s2 = int(input('Enter the marks of Python : '))\n",
    "s3 = int(input('Enter the marks of DBMS : '))\n",
    "s4 = int(input('Enter the marks of CS : '))\n",
    "s5 = int(input('Enter the marks of PE : '))\n",
    "\n",
    "total = s1+s2+s3+s4+s5\n",
    "result = float(total/5)\n",
    "\n",
    "grade=\"Fail\"\n",
    "if result<100 and result>=90:\n",
    "    grade = \"A+\"\n",
    "elif result<90 and result>=80:\n",
    "    grade = \"A\"\n",
    "elif result<80 and result>=70:\n",
    "    grade = \"B\"\n",
    "elif result<70 and result>=60:\n",
    "    grade = \"C\"\n",
    "elif result<60 and result>=50:\n",
    "    grade = \"D\"\n",
    "    \n",
    "print(\"Grade : \"+grade)"
   ]
  },
  {
   "cell_type": "code",
   "execution_count": 18,
   "metadata": {},
   "outputs": [
    {
     "name": "stdout",
     "output_type": "stream",
     "text": [
      "Enter the number : 37\n",
      "37 is odd\n"
     ]
    }
   ],
   "source": [
    "num = int(input('Enter the number : '))\n",
    "if num%2==0:\n",
    "    print(str(num)+\" is even\")\n",
    "else:\n",
    "    print(str(num)+\" is odd\")"
   ]
  },
  {
   "cell_type": "code",
   "execution_count": 23,
   "metadata": {},
   "outputs": [
    {
     "name": "stdout",
     "output_type": "stream",
     "text": [
      "13\n"
     ]
    }
   ],
   "source": [
    "list1 = (2,3,6,8,4,2,69,0,56,3,5,7,8)\n",
    "print(len(list1))"
   ]
  },
  {
   "cell_type": "code",
   "execution_count": 24,
   "metadata": {},
   "outputs": [
    {
     "name": "stdout",
     "output_type": "stream",
     "text": [
      "173\n"
     ]
    }
   ],
   "source": [
    "print(sum(list1))"
   ]
  },
  {
   "cell_type": "code",
   "execution_count": 25,
   "metadata": {},
   "outputs": [
    {
     "name": "stdout",
     "output_type": "stream",
     "text": [
      "69\n"
     ]
    }
   ],
   "source": [
    "print(max(list1))"
   ]
  },
  {
   "cell_type": "code",
   "execution_count": 26,
   "metadata": {},
   "outputs": [
    {
     "name": "stdout",
     "output_type": "stream",
     "text": [
      "1\n",
      "1\n",
      "2\n",
      "3\n"
     ]
    }
   ],
   "source": [
    "a = [1, 1, 2, 3, 5, 8, 13, 21, 34, 55, 89]\n",
    "for i in a:\n",
    "    if i < 5:\n",
    "        print(i)"
   ]
  },
  {
   "cell_type": "code",
   "execution_count": null,
   "metadata": {},
   "outputs": [],
   "source": []
  }
 ],
 "metadata": {
  "kernelspec": {
   "display_name": "Python 3",
   "language": "python",
   "name": "python3"
  },
  "language_info": {
   "codemirror_mode": {
    "name": "ipython",
    "version": 3
   },
   "file_extension": ".py",
   "mimetype": "text/x-python",
   "name": "python",
   "nbconvert_exporter": "python",
   "pygments_lexer": "ipython3",
   "version": "3.7.4"
  }
 },
 "nbformat": 4,
 "nbformat_minor": 2
}

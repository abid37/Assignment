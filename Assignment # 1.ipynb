{
 "cells": [
  {
   "cell_type": "code",
   "execution_count": 1,
   "metadata": {},
   "outputs": [],
   "source": [
    "print('\\tTwinkle, twinkle, little star,\\n\\t\\tHow I wonder what you are!\\n\\t\\t\\tUp above the world so high,\\n\\t\\t\\tLike a diamond in the sky.\\n\\tTwinkle, twinkle, little star,\\n\\t\\tHow I wonder what you are')"
   ]
  },
  {
   "cell_type": "code",
   "execution_count": 2,
   "metadata": {},
   "outputs": [],
   "source": [
    "import sys\n",
    "print(sys.version)"
   ]
  },
  {
   "cell_type": "code",
   "execution_count": 3,
   "metadata": {},
   "outputs": [
    {
     "name": "stdout",
     "output_type": "stream",
     "text": [
      "2019-11-07 19:33:03.729552\n"
     ]
    }
   ],
   "source": [
    "from datetime import datetime\n",
    "result = datetime.today()\n",
    "print(result)"
   ]
  },
  {
   "cell_type": "code",
   "execution_count": 4,
   "metadata": {},
   "outputs": [
    {
     "name": "stdout",
     "output_type": "stream",
     "text": [
      "Enter the radius : 2\n",
      "12.566370614359172\n"
     ]
    }
   ],
   "source": [
    "import math\n",
    "r = int(input('Enter the radius : '))\n",
    "a = (math.pi)*r**2\n",
    "print(a)"
   ]
  },
  {
   "cell_type": "code",
   "execution_count": 10,
   "metadata": {},
   "outputs": [
    {
     "name": "stdout",
     "output_type": "stream",
     "text": [
      "Enter first name : abid\n",
      "Enter last name : ali\n",
      "ila diba\n"
     ]
    }
   ],
   "source": [
    "fname = input('Enter first name : ')\n",
    "lname = input('Enter last name : ')\n",
    "name = (fname + \" \" + lname) [::-1] \n",
    "print(name)"
   ]
  },
  {
   "cell_type": "code",
   "execution_count": 11,
   "metadata": {},
   "outputs": [
    {
     "name": "stdout",
     "output_type": "stream",
     "text": [
      "Enter first number : 3\n",
      "Enter second number : 5\n",
      "8\n"
     ]
    }
   ],
   "source": [
    "n1 = int(input('Enter first number : '))\n",
    "n2 = int(input('Enter second number : '))\n",
    "add = n1 + n2\n",
    "print(add)"
   ]
  },
  {
   "cell_type": "code",
   "execution_count": null,
   "metadata": {},
   "outputs": [],
   "source": []
  }
 ],
 "metadata": {
  "kernelspec": {
   "display_name": "Python 3",
   "language": "python",
   "name": "python3"
  },
  "language_info": {
   "codemirror_mode": {
    "name": "ipython",
    "version": 3
   },
   "file_extension": ".py",
   "mimetype": "text/x-python",
   "name": "python",
   "nbconvert_exporter": "python",
   "pygments_lexer": "ipython3",
   "version": "3.7.4"
  }
 },
 "nbformat": 4,
 "nbformat_minor": 2
}
